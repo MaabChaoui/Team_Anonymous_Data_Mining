{
 "cells": [
  {
   "cell_type": "markdown",
   "metadata": {},
   "source": [
    "# __Welcome to the notebook!__\n",
    "This notebook takes you through the various steps we went through for this data mining project. Here, you will have a detailed look at the logic as well as the actyual code behind each data mining concept we applied so as to achieve our conclusion.\n",
    "#### __Notebook Outline__:\n",
    "- Theme Description\n",
    "- Dataset Overview\n",
    "- Data Exploration and Preprocessing\n",
    "- Statistical Analysis\n",
    "- Data Mining Techniques\n",
    "- Model Building\n",
    "- Analysis and Evaluation\n",
    "- Conclusion\n",
    "\n",
    "//(edit as necessary)"
   ]
  },
  {
   "cell_type": "markdown",
   "metadata": {},
   "source": [
    "## __Theme__\n",
    "Our theme of choice is `huh`\n",
    "\n",
    "#### \n",
    "<u>__Objective__:</u>\n",
    "Build a `classification model to do xyz`"
   ]
  },
  {
   "cell_type": "markdown",
   "metadata": {},
   "source": [
    "## __Dataset Overview__\n",
    "This dataset represents a health profile of individuals, capturing a variety of demographic information, geographical data, medical history, and current health status. It is designed to facilitate the understanding of patients' health needs and identify potential necessary urgent interventions.\n",
    "\n",
    "This dataset could be used for a wide range of purposes, including epidemiological studies, healthcare service planning, and personalized patient care management. Each row represent a unique patient, with their respective health and demographic data.\n",
    "##\n",
    "<u>__Source:__</u>\n",
    "The data was collected in the academic year 2021/2022, during the peak of the covid-19 epidemic so as to make __home hospitalization__ a valid possibility in order to reduce the massive load on hospitals during the pandemic. It was collected by former students from the university of Constantine 2 Abdelhamid Mehri, in collaboration with the medical staff of __University Hospital (CHU) Abdelhamid Ben Badis__ in Constantine."
   ]
  },
  {
   "cell_type": "markdown",
   "metadata": {},
   "source": [
    "## __Data Exploration and Preprocessing:__"
   ]
  },
  {
   "cell_type": "markdown",
   "metadata": {},
   "source": [
    "First of all, let's start with importing the necessary python libraries as well as the dataset itself:"
   ]
  },
  {
   "cell_type": "code",
   "execution_count": 4,
   "metadata": {},
   "outputs": [],
   "source": [
    "import numpy as np\n",
    "import matplotlib.pyplot as plt\n",
    "import seaborn as sns\n",
    "import pandas as pd"
   ]
  },
  {
   "cell_type": "code",
   "execution_count": 5,
   "metadata": {},
   "outputs": [],
   "source": [
    "# import the dataset\n",
    "df = pd.read_csv('./dataset/dataset.csv')"
   ]
  },
  {
   "cell_type": "code",
   "execution_count": 13,
   "metadata": {},
   "outputs": [
    {
     "name": "stdout",
     "output_type": "stream",
     "text": [
      "The dataset consists of 800 rows, 27 columns.\n"
     ]
    },
    {
     "data": {
      "text/html": [
       "<div>\n",
       "<style scoped>\n",
       "    .dataframe tbody tr th:only-of-type {\n",
       "        vertical-align: middle;\n",
       "    }\n",
       "\n",
       "    .dataframe tbody tr th {\n",
       "        vertical-align: top;\n",
       "    }\n",
       "\n",
       "    .dataframe thead th {\n",
       "        text-align: right;\n",
       "    }\n",
       "</style>\n",
       "<table border=\"1\" class=\"dataframe\">\n",
       "  <thead>\n",
       "    <tr style=\"text-align: right;\">\n",
       "      <th></th>\n",
       "      <th>ID</th>\n",
       "      <th>Age</th>\n",
       "      <th>Gender</th>\n",
       "      <th>Service Time</th>\n",
       "      <th>Latitude</th>\n",
       "      <th>Longitude</th>\n",
       "      <th>Diabetes</th>\n",
       "      <th>Hypertension</th>\n",
       "      <th>Heart disease</th>\n",
       "      <th>Cancer</th>\n",
       "      <th>...</th>\n",
       "      <th>Blood pressure</th>\n",
       "      <th>Heart rate</th>\n",
       "      <th>Body temperature</th>\n",
       "      <th>Oxygen saturation</th>\n",
       "      <th>Pain level</th>\n",
       "      <th>Medication adherence</th>\n",
       "      <th>WBC</th>\n",
       "      <th>RBC</th>\n",
       "      <th>Platelet Count</th>\n",
       "      <th>Service request</th>\n",
       "    </tr>\n",
       "  </thead>\n",
       "  <tbody>\n",
       "    <tr>\n",
       "      <th>0</th>\n",
       "      <td>1</td>\n",
       "      <td>69</td>\n",
       "      <td>F</td>\n",
       "      <td>25</td>\n",
       "      <td>36.326607</td>\n",
       "      <td>6.583345</td>\n",
       "      <td>No</td>\n",
       "      <td>Medium</td>\n",
       "      <td>No</td>\n",
       "      <td>No</td>\n",
       "      <td>...</td>\n",
       "      <td>138</td>\n",
       "      <td>78</td>\n",
       "      <td>35.6</td>\n",
       "      <td>91</td>\n",
       "      <td>0</td>\n",
       "      <td>High</td>\n",
       "      <td>5322</td>\n",
       "      <td>4085975</td>\n",
       "      <td>236534</td>\n",
       "      <td>Nursing care</td>\n",
       "    </tr>\n",
       "    <tr>\n",
       "      <th>1</th>\n",
       "      <td>2</td>\n",
       "      <td>53</td>\n",
       "      <td>F</td>\n",
       "      <td>20</td>\n",
       "      <td>36.328921</td>\n",
       "      <td>6.627832</td>\n",
       "      <td>No</td>\n",
       "      <td>Medium</td>\n",
       "      <td>No</td>\n",
       "      <td>No</td>\n",
       "      <td>...</td>\n",
       "      <td>131</td>\n",
       "      <td>70</td>\n",
       "      <td>38.7</td>\n",
       "      <td>98</td>\n",
       "      <td>1</td>\n",
       "      <td>High</td>\n",
       "      <td>16876</td>\n",
       "      <td>4988389</td>\n",
       "      <td>475014</td>\n",
       "      <td>general medicine</td>\n",
       "    </tr>\n",
       "    <tr>\n",
       "      <th>2</th>\n",
       "      <td>3</td>\n",
       "      <td>67</td>\n",
       "      <td>M</td>\n",
       "      <td>25</td>\n",
       "      <td>36.331728</td>\n",
       "      <td>6.575438</td>\n",
       "      <td>Yes</td>\n",
       "      <td>No</td>\n",
       "      <td>No</td>\n",
       "      <td>No</td>\n",
       "      <td>...</td>\n",
       "      <td>118</td>\n",
       "      <td>55</td>\n",
       "      <td>36.7</td>\n",
       "      <td>95</td>\n",
       "      <td>0</td>\n",
       "      <td>High</td>\n",
       "      <td>8962</td>\n",
       "      <td>4926610</td>\n",
       "      <td>280074</td>\n",
       "      <td>internal medicine</td>\n",
       "    </tr>\n",
       "    <tr>\n",
       "      <th>3</th>\n",
       "      <td>4</td>\n",
       "      <td>50</td>\n",
       "      <td>F</td>\n",
       "      <td>20</td>\n",
       "      <td>36.382200</td>\n",
       "      <td>6.612659</td>\n",
       "      <td>No</td>\n",
       "      <td>Medium</td>\n",
       "      <td>No</td>\n",
       "      <td>No</td>\n",
       "      <td>...</td>\n",
       "      <td>135</td>\n",
       "      <td>82</td>\n",
       "      <td>37.2</td>\n",
       "      <td>87</td>\n",
       "      <td>1</td>\n",
       "      <td>High</td>\n",
       "      <td>6535</td>\n",
       "      <td>4649583</td>\n",
       "      <td>280729</td>\n",
       "      <td>Nursing care</td>\n",
       "    </tr>\n",
       "    <tr>\n",
       "      <th>4</th>\n",
       "      <td>5</td>\n",
       "      <td>73</td>\n",
       "      <td>M</td>\n",
       "      <td>15</td>\n",
       "      <td>36.286557</td>\n",
       "      <td>6.605086</td>\n",
       "      <td>No</td>\n",
       "      <td>No</td>\n",
       "      <td>No</td>\n",
       "      <td>No</td>\n",
       "      <td>...</td>\n",
       "      <td>113</td>\n",
       "      <td>59</td>\n",
       "      <td>36.3</td>\n",
       "      <td>99</td>\n",
       "      <td>1</td>\n",
       "      <td>High</td>\n",
       "      <td>5550</td>\n",
       "      <td>4500926</td>\n",
       "      <td>206813</td>\n",
       "      <td>Nursing care</td>\n",
       "    </tr>\n",
       "  </tbody>\n",
       "</table>\n",
       "<p>5 rows × 27 columns</p>\n",
       "</div>"
      ],
      "text/plain": [
       "   ID  Age Gender  Service Time   Latitude  Longitude Diabetes Hypertension  \\\n",
       "0   1   69      F            25  36.326607   6.583345       No       Medium   \n",
       "1   2   53      F            20  36.328921   6.627832       No       Medium   \n",
       "2   3   67      M            25  36.331728   6.575438      Yes           No   \n",
       "3   4   50      F            20  36.382200   6.612659       No       Medium   \n",
       "4   5   73      M            15  36.286557   6.605086       No           No   \n",
       "\n",
       "  Heart disease Cancer  ... Blood pressure Heart rate  Body temperature  \\\n",
       "0            No     No  ...            138         78              35.6   \n",
       "1            No     No  ...            131         70              38.7   \n",
       "2            No     No  ...            118         55              36.7   \n",
       "3            No     No  ...            135         82              37.2   \n",
       "4            No     No  ...            113         59              36.3   \n",
       "\n",
       "   Oxygen saturation  Pain level  Medication adherence    WBC      RBC  \\\n",
       "0                 91           0                  High   5322  4085975   \n",
       "1                 98           1                  High  16876  4988389   \n",
       "2                 95           0                  High   8962  4926610   \n",
       "3                 87           1                  High   6535  4649583   \n",
       "4                 99           1                  High   5550  4500926   \n",
       "\n",
       "   Platelet Count    Service request  \n",
       "0          236534       Nursing care  \n",
       "1          475014   general medicine  \n",
       "2          280074  internal medicine  \n",
       "3          280729       Nursing care  \n",
       "4          206813       Nursing care  \n",
       "\n",
       "[5 rows x 27 columns]"
      ]
     },
     "execution_count": 13,
     "metadata": {},
     "output_type": "execute_result"
    }
   ],
   "source": [
    "# print shape and header\n",
    "print(f\"The dataset consists of {df.shape[0]} rows, {df.shape[1]} columns.\")\n",
    "df.head()"
   ]
  },
  {
   "cell_type": "markdown",
   "metadata": {},
   "source": [
    "We can see that the dataset has **27 columns**. This is a clear indicator that we may need to apply some dimentionality reduction in the future.\n",
    "Those columns are:"
   ]
  },
  {
   "cell_type": "code",
   "execution_count": 16,
   "metadata": {},
   "outputs": [
    {
     "data": {
      "text/plain": [
       "Index(['ID', 'Age', 'Gender', 'Service Time', 'Latitude', 'Longitude',\n",
       "       'Diabetes', 'Hypertension', 'Heart disease', 'Cancer',\n",
       "       'Chronic obstructive pulmonary disease', 'Kidney disease',\n",
       "       'Glucose level', 'CRP', 'PT', 'Cholesterol level', 'Triglyceride level',\n",
       "       'Blood pressure', 'Heart rate', 'Body temperature', 'Oxygen saturation',\n",
       "       'Pain level', 'Medication adherence', 'WBC', 'RBC', 'Platelet Count',\n",
       "       'Service request'],\n",
       "      dtype='object')"
      ]
     },
     "execution_count": 16,
     "metadata": {},
     "output_type": "execute_result"
    }
   ],
   "source": [
    "df.columns"
   ]
  }
 ],
 "metadata": {
  "kernelspec": {
   "display_name": "Python 3",
   "language": "python",
   "name": "python3"
  },
  "language_info": {
   "codemirror_mode": {
    "name": "ipython",
    "version": 3
   },
   "file_extension": ".py",
   "mimetype": "text/x-python",
   "name": "python",
   "nbconvert_exporter": "python",
   "pygments_lexer": "ipython3",
   "version": "3.11.5"
  },
  "orig_nbformat": 4
 },
 "nbformat": 4,
 "nbformat_minor": 2
}
